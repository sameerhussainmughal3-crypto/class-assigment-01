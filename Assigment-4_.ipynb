{
 "cells": [
  {
   "cell_type": "markdown",
   "id": "ae9bf1bd",
   "metadata": {},
   "source": [
    "### assigment for Loops"
   ]
  },
  {
   "cell_type": "markdown",
   "id": "cf07d1a5",
   "metadata": {},
   "source": [
    "#### Q1. Write a Python program to print the numbers from 1 to 10 using a for loop."
   ]
  },
  {
   "cell_type": "code",
   "execution_count": 26,
   "id": "10ab5d78",
   "metadata": {},
   "outputs": [
    {
     "name": "stdout",
     "output_type": "stream",
     "text": [
      "1,2,3,4,5,6,7,8,9,10,"
     ]
    }
   ],
   "source": [
    "\n",
    "for i in range(1, 11):\n",
    "    print(i, end=\",\")\n"
   ]
  },
  {
   "cell_type": "markdown",
   "id": "6ad995af",
   "metadata": {},
   "source": [
    "#### Q2. Write a Python program to print the numbers from 20 to 1 using a while loop."
   ]
  },
  {
   "cell_type": "code",
   "execution_count": 23,
   "id": "0a46e2c2",
   "metadata": {},
   "outputs": [
    {
     "name": "stdout",
     "output_type": "stream",
     "text": [
      "20 19 18 17 16 15 14 13 12 11 10 9 8 7 6 5 4 3 2 1 "
     ]
    }
   ],
   "source": [
    "i = 20\n",
    "while i >= 1:\n",
    "    print(i, end=\" \")\n",
    "    i -= 1\n"
   ]
  },
  {
   "cell_type": "markdown",
   "id": "0acde6ad",
   "metadata": {},
   "source": [
    "#### Q3 to print  Write a progra even numbers from 1 to 10"
   ]
  },
  {
   "cell_type": "code",
   "execution_count": 21,
   "id": "4fa776cd",
   "metadata": {},
   "outputs": [
    {
     "name": "stdout",
     "output_type": "stream",
     "text": [
      "4 7 10 "
     ]
    }
   ],
   "source": [
    "\n",
    "for i in range(4, 11, 3):\n",
    "    print(i, end=\" \")\n",
    "\n"
   ]
  },
  {
   "cell_type": "markdown",
   "id": "05972fcb",
   "metadata": {},
   "source": [
    "#### Q4. Write a program that prompts the user to enter a number n and prints all numbers from 1 to n."
   ]
  },
  {
   "cell_type": "code",
   "execution_count": 19,
   "id": "081565e5",
   "metadata": {},
   "outputs": [
    {
     "name": "stdout",
     "output_type": "stream",
     "text": [
      "1 2 "
     ]
    }
   ],
   "source": [
    "\n",
    "n = int(input(\"Enter a number: \"))\n",
    "for i in range(1, n + 1):\n",
    "    print(i, end=\" \")\n",
    "\n"
   ]
  },
  {
   "cell_type": "markdown",
   "id": "e4957d99",
   "metadata": {},
   "source": [
    "#### Q5. Write a program that prompts the user to enter a number n and prints all odd numbers between 1 and n."
   ]
  },
  {
   "cell_type": "code",
   "execution_count": 18,
   "id": "ea94f3a4",
   "metadata": {},
   "outputs": [
    {
     "name": "stdout",
     "output_type": "stream",
     "text": [
      "1 3 5 7 9 11 13 15 17 19 21 23 25 27 29 31 33 "
     ]
    }
   ],
   "source": [
    "n = int(input(\"Enter a number: \"))\n",
    "for i in range(1, n + 1, 2):\n",
    "    print(i, end=\" \")"
   ]
  },
  {
   "cell_type": "markdown",
   "id": "73aadc3f",
   "metadata": {},
   "source": [
    "#### Q6. Write a program that prints “Happy Birthday!” five times on screen."
   ]
  },
  {
   "cell_type": "code",
   "execution_count": 16,
   "id": "ecabdc7e",
   "metadata": {},
   "outputs": [
    {
     "name": "stdout",
     "output_type": "stream",
     "text": [
      "happy birthday\n",
      "happy birthday\n",
      "happy birthday\n",
      "happy birthday\n",
      "happy birthday\n"
     ]
    }
   ],
   "source": [
    "for i in range(5):\n",
    "    print(\"happy birthday\")"
   ]
  },
  {
   "cell_type": "markdown",
   "id": "543d641c",
   "metadata": {},
   "source": [
    "#### Q7. Write a program that takes a number n and generates the first n terms of the series formed by squaring natural numbers."
   ]
  },
  {
   "cell_type": "code",
   "execution_count": 15,
   "id": "852709d8",
   "metadata": {},
   "outputs": [
    {
     "name": "stdout",
     "output_type": "stream",
     "text": [
      "The first 34 terms of the series are:\n",
      "1 4 9 16 25 36 49 64 81 100 121 144 169 196 225 256 289 324 361 400 441 484 529 576 625 676 729 784 841 900 961 1024 1089 1156 "
     ]
    }
   ],
   "source": [
    "n = int(input(\"Enter a number: \"))\n",
    "print(f\"The first {n} terms of the series are:\")\n",
    "for i in range(1, n + 1):\n",
    "    print(i ** 2, end=\" \")"
   ]
  },
  {
   "cell_type": "markdown",
   "id": "69b5c921",
   "metadata": {},
   "source": [
    "#### Q8. Write a program that prompts the user to input a number and prints its multiplication table."
   ]
  },
  {
   "cell_type": "code",
   "execution_count": 14,
   "id": "fe92334f",
   "metadata": {},
   "outputs": [
    {
     "name": "stdout",
     "output_type": "stream",
     "text": [
      "5 x 1 = 5\n",
      "5 x 2 = 10\n",
      "5 x 3 = 15\n",
      "5 x 4 = 20\n",
      "5 x 5 = 25\n",
      "5 x 6 = 30\n",
      "5 x 7 = 35\n",
      "5 x 8 = 40\n",
      "5 x 9 = 45\n",
      "5 x 10 = 50\n"
     ]
    }
   ],
   "source": [
    "n = int(input(\"Enter a number: \"))\n",
    "for i in range(1, 11):\n",
    "    print(f\"{n} x {i} = {n * i}\")"
   ]
  },
  {
   "cell_type": "markdown",
   "id": "9e0aa821",
   "metadata": {},
   "source": [
    "#### Q9. Write a Python program to print the first 8 terms of an arithmetic progression starting with 3 and having a common difference of 4."
   ]
  },
  {
   "cell_type": "code",
   "execution_count": 13,
   "id": "2b64cbd2",
   "metadata": {},
   "outputs": [
    {
     "name": "stdout",
     "output_type": "stream",
     "text": [
      "3 7 11 15 19 23 27 31 "
     ]
    }
   ],
   "source": [
    "a, d = 3,4\n",
    "for i in range(8):\n",
    "    print(a + i * d, end=\" \")"
   ]
  },
  {
   "cell_type": "markdown",
   "id": "21a29bb2",
   "metadata": {},
   "source": [
    "#### Q10. Write a Python program to print the first 6 terms of a geometric sequence starting with 2 and having a common ratio of 3."
   ]
  },
  {
   "cell_type": "code",
   "execution_count": 12,
   "id": "7e60fba3",
   "metadata": {},
   "outputs": [
    {
     "name": "stdout",
     "output_type": "stream",
     "text": [
      "3 15 75 375 1875 9375 "
     ]
    }
   ],
   "source": [
    "a, r = 3,5\n",
    "term = a\n",
    "for i in range(6):\n",
    "    print(term, end=\" \")\n",
    "    term *= r"
   ]
  },
  {
   "cell_type": "markdown",
   "id": "1ab1c43e",
   "metadata": {},
   "source": [
    "#### Q11. Write a Python program that asks the user for a positive integer value and calculates the sum from 1 to n."
   ]
  },
  {
   "cell_type": "code",
   "execution_count": 9,
   "id": "3b6c9a73",
   "metadata": {},
   "outputs": [
    {
     "name": "stdout",
     "output_type": "stream",
     "text": [
      "The sum of numbers from 1 to 36 is: 666\n"
     ]
    }
   ],
   "source": [
    "n = int(input(\"Enter a positive integer: \"))\n",
    "total = 0\n",
    "for i in range(1, n + 1):\n",
    "    total += i\n",
    "print(f\"The sum of numbers from 1 to {n} is: {total}\")"
   ]
  },
  {
   "cell_type": "markdown",
   "id": "14c999e5",
   "metadata": {},
   "source": [
    "#### Q12. Write a program that takes a positive integer n and calculates the sum of the reciprocals of all numbers from 1 up to n."
   ]
  },
  {
   "cell_type": "code",
   "execution_count": 8,
   "id": "b8a0e420",
   "metadata": {},
   "outputs": [
    {
     "name": "stdout",
     "output_type": "stream",
     "text": [
      "The sum of reciprocals from 1 to 20 is: 3.60\n"
     ]
    }
   ],
   "source": [
    "n = int(input(\"Enter a positive integer: \"))\n",
    "rec_sum = 0\n",
    "for i in range(1, n + 1):\n",
    "    rec_sum += 1 / i\n",
    "print(f\"The sum of reciprocals from 1 to {n} is: {rec_sum:.2f}\")"
   ]
  },
  {
   "cell_type": "markdown",
   "id": "2ef774ee",
   "metadata": {},
   "source": [
    "#### Q13. Write a program that prompts the user to enter a number and repeats this process 5 times, showing the final total."
   ]
  },
  {
   "cell_type": "code",
   "execution_count": 7,
   "id": "491b077e",
   "metadata": {},
   "outputs": [
    {
     "name": "stdout",
     "output_type": "stream",
     "text": [
      "The final running total is: 27\n"
     ]
    }
   ],
   "source": [
    "total = 0\n",
    "for i in range(5):\n",
    "    num = int(input(f\"Enter number {i+1}: \"))\n",
    "    total += num\n",
    "print(f\"The final running total is: {total}\")"
   ]
  },
  {
   "cell_type": "markdown",
   "id": "57569b8f",
   "metadata": {},
   "source": [
    "#### Q14. Write a program that asks the user to enter a positive integer and calculates its factorial."
   ]
  },
  {
   "cell_type": "code",
   "execution_count": 3,
   "id": "596b87f9",
   "metadata": {},
   "outputs": [
    {
     "name": "stdout",
     "output_type": "stream",
     "text": [
      "Factorial of 4 is 24\n"
     ]
    }
   ],
   "source": [
    "n = int(input(\"Enter a positive integer: \"))\n",
    "if n < 0:\n",
    "    print(\"Factorial not defined for negative numbers.\")\n",
    "else:\n",
    "    fact = 1\n",
    "    for i in range(1, n + 1):\n",
    "        fact *= i\n",
    "    print(f\"Factorial of {n} is {fact}\")"
   ]
  },
  {
   "cell_type": "markdown",
   "id": "92ec126b",
   "metadata": {},
   "source": [
    "#### Q15. Write a Python program that prompts the user to enter a base and an exponent, then computes the power using a loop."
   ]
  },
  {
   "cell_type": "code",
   "execution_count": 6,
   "id": "29ae9710",
   "metadata": {},
   "outputs": [
    {
     "name": "stdout",
     "output_type": "stream",
     "text": [
      "3^4 = 81\n"
     ]
    }
   ],
   "source": [
    "base = int(input(\"Enter base: \"))\n",
    "exp = int(input(\"Enter exponent: \"))\n",
    "result = 1\n",
    "for i in range(exp):\n",
    "    result *= base\n",
    "print(f\"{base}^{exp} = {result}\")"
   ]
  },
  {
   "cell_type": "code",
   "execution_count": null,
   "id": "68705f7f",
   "metadata": {},
   "outputs": [],
   "source": []
  }
 ],
 "metadata": {
  "kernelspec": {
   "display_name": "Python 3",
   "language": "python",
   "name": "python3"
  },
  "language_info": {
   "codemirror_mode": {
    "name": "ipython",
    "version": 3
   },
   "file_extension": ".py",
   "mimetype": "text/x-python",
   "name": "python",
   "nbconvert_exporter": "python",
   "pygments_lexer": "ipython3",
   "version": "3.13.6"
  }
 },
 "nbformat": 4,
 "nbformat_minor": 5
}
