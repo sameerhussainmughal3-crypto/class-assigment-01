{
 "cells": [
  {
   "cell_type": "markdown",
   "id": "0bb8795f",
   "metadata": {},
   "source": [
    "#### Question no 01\n",
    "#### Print Your Name with your Father name and Date of birth using suitable escape sequence charactor\n"
   ]
  },
  {
   "cell_type": "code",
   "execution_count": 5,
   "id": "70e525f5",
   "metadata": {},
   "outputs": [
    {
     "name": "stdout",
     "output_type": "stream",
     "text": [
      "Sameer Hussain\n",
      "Mehboob Hussain\n",
      "28-08-2008\n"
     ]
    }
   ],
   "source": [
    "name = ('Sameer Hussain')\n",
    "Father_name = ('Mehboob Hussain')\n",
    "date_of_birth = ('28-08-2008')\n",
    "\n",
    "print(name)\n",
    "print(Father_name)\n",
    "print(date_of_birth)"
   ]
  },
  {
   "cell_type": "markdown",
   "id": "e1956ad9",
   "metadata": {},
   "source": [
    "### Qestion no 2\n",
    "### Write your small bio using variables and print it using print function"
   ]
  },
  {
   "cell_type": "code",
   "execution_count": 2,
   "id": "bcb4666f",
   "metadata": {},
   "outputs": [
    {
     "name": "stdout",
     "output_type": "stream",
     "text": [
      "name\n",
      "father_name\n",
      "date_of_birth\n",
      "hobby\n",
      "city\n"
     ]
    }
   ],
   "source": [
    "name = (\"sameer hussain\")\n",
    "father_name =(\"mehboob hussain\")\n",
    "date_of_birth = (\"28-08-2008\")\n",
    "hobby = (\"playing cricket\")\n",
    "city = (\"karachi\")\n",
    "print (\"name\")\n",
    "print (\"father_name\")\n",
    "print (\"date_of_birth\")\n",
    "print (\"hobby\")\n",
    "print (\"city\")\n"
   ]
  },
  {
   "cell_type": "code",
   "execution_count": 3,
   "id": "8f1aef97",
   "metadata": {},
   "outputs": [
    {
     "name": "stdout",
     "output_type": "stream",
     "text": [
      "Name: Sameer Hussain\n",
      "Father's Name: Mehboob Hussain\n",
      "Date of Birth: 28-08-2008\n",
      "Hobby: Playing Cricket\n",
      "City: Karachi\n"
     ]
    }
   ],
   "source": [
    "name = \"Sameer Hussain\"\n",
    "father_name = \"Mehboob Hussain\"\n",
    "date_of_birth = \"28-08-2008\"\n",
    "hobby = \"Playing Cricket\"\n",
    "city = \"Karachi\"\n",
    "\n",
    "print(\"Name:\", name)\n",
    "print(\"Father's Name:\", father_name)\n",
    "print(\"Date of Birth:\", date_of_birth)\n",
    "print(\"Hobby:\", hobby)\n",
    "print(\"City:\", city)"
   ]
  },
  {
   "cell_type": "markdown",
   "id": "b1932105",
   "metadata": {},
   "source": [
    "### Question no 03\n",
    "### Write a program in which use all the operators we can use in Python "
   ]
  },
  {
   "cell_type": "code",
   "execution_count": 4,
   "id": "2fe8a415",
   "metadata": {},
   "outputs": [
    {
     "name": "stdout",
     "output_type": "stream",
     "text": [
      "13\n",
      "7\n",
      "30\n",
      "3.3333333333333335\n",
      "1\n",
      "3\n",
      "1000\n"
     ]
    }
   ],
   "source": [
    "a = 10\n",
    "b = 3\n",
    "\n",
    "# Arithmetic Operators\n",
    "print(10 + 3)   # Addition\n",
    "print(10 - 3)   # Subtraction\n",
    "print(10 * 3)   # Multiplication\n",
    "print(10 / 3)   # Division\n",
    "print(10 % 3)   # Modulus\n",
    "print(10 // 3)  # Floor Division\n",
    "print(10 ** 3)  # Exponent\n",
    "\n"
   ]
  },
  {
   "cell_type": "code",
   "execution_count": 5,
   "id": "b55dca0c",
   "metadata": {},
   "outputs": [
    {
     "name": "stdout",
     "output_type": "stream",
     "text": [
      "False\n",
      "True\n",
      "True\n",
      "False\n"
     ]
    }
   ],
   "source": [
    "# Comparison Operators\n",
    "print(10 == 3)\n",
    "print(10 != 3)\n",
    "print(10 > 3)\n",
    "print(10 < 3)\n"
   ]
  },
  {
   "cell_type": "code",
   "execution_count": 8,
   "id": "ef02de7d",
   "metadata": {},
   "outputs": [
    {
     "name": "stdout",
     "output_type": "stream",
     "text": [
      "7\n"
     ]
    }
   ],
   "source": [
    "# Assignment Operators\n",
    "x = 5\n",
    "x += 2\n",
    "print(x)"
   ]
  },
  {
   "cell_type": "code",
   "execution_count": 9,
   "id": "9d57fec5",
   "metadata": {},
   "outputs": [
    {
     "name": "stdout",
     "output_type": "stream",
     "text": [
      "True\n",
      "True\n",
      "False\n"
     ]
    }
   ],
   "source": [
    "# Logical Operators\n",
    "print(a > 5 and b < 5)\n",
    "print(a > 5 or b > 5)\n",
    "print(not(a > b))"
   ]
  },
  {
   "cell_type": "code",
   "execution_count": 14,
   "id": "eef0c531",
   "metadata": {},
   "outputs": [
    {
     "name": "stdout",
     "output_type": "stream",
     "text": [
      "False\n",
      "True\n"
     ]
    }
   ],
   "source": [
    "# Identity Operators\n",
    "print(a is b)\n",
    "print(a is not b)"
   ]
  },
  {
   "cell_type": "code",
   "execution_count": 11,
   "id": "acf7e50d",
   "metadata": {},
   "outputs": [
    {
     "name": "stdout",
     "output_type": "stream",
     "text": [
      "True\n",
      "True\n"
     ]
    }
   ],
   "source": [
    "# Membership Operators\n",
    "nums = [1, 2, 3, 10]\n",
    "print(10 in nums)\n",
    "print(5 not in nums)"
   ]
  },
  {
   "cell_type": "code",
   "execution_count": 12,
   "id": "8d6d0235",
   "metadata": {},
   "outputs": [
    {
     "name": "stdout",
     "output_type": "stream",
     "text": [
      "2\n",
      "11\n",
      "9\n",
      "-11\n",
      "20\n",
      "5\n"
     ]
    }
   ],
   "source": [
    "# Bitwise Operators\n",
    "print(a & b)\n",
    "print(a | b)\n",
    "print(a ^ b)\n",
    "print(~a)\n",
    "print(a << 1)\n",
    "print(a >> 1)"
   ]
  },
  {
   "cell_type": "markdown",
   "id": "94bc5da4",
   "metadata": {},
   "source": [
    "## Question no 04 \n",
    "#### Completes the following steps of small task\n",
    "#### Mention Marks of English , Islamiat and Maths out of 100 in 3 different variables\n",
    "#### Mention Variable of Total Marks and assign 300 to it\n",
    "#### Calculate Percentage"
   ]
  },
  {
   "cell_type": "code",
   "execution_count": 15,
   "id": "54963c19",
   "metadata": {},
   "outputs": [],
   "source": [
    "# Marks of 3 subjects\n",
    "english = 85\n",
    "islamiat = 90\n",
    "maths = 95"
   ]
  },
  {
   "cell_type": "code",
   "execution_count": 16,
   "id": "0340f38b",
   "metadata": {},
   "outputs": [],
   "source": [
    "# Total Marks\n",
    "total_marks = 300\n"
   ]
  },
  {
   "cell_type": "code",
   "execution_count": 17,
   "id": "f9453119",
   "metadata": {},
   "outputs": [],
   "source": [
    "# Obtained Marks\n",
    "obtained_marks = english + islamiat + maths"
   ]
  },
  {
   "cell_type": "code",
   "execution_count": 18,
   "id": "95e8943f",
   "metadata": {},
   "outputs": [],
   "source": [
    "# Calculate Percentage\n",
    "percentage = (obtained_marks / total_marks) * 100"
   ]
  },
  {
   "cell_type": "code",
   "execution_count": 19,
   "id": "557abd8a",
   "metadata": {},
   "outputs": [
    {
     "name": "stdout",
     "output_type": "stream",
     "text": [
      "Obtained Marks: 270\n",
      "Percentage: 90.0 %\n"
     ]
    }
   ],
   "source": [
    "print(\"Obtained Marks:\", obtained_marks)\n",
    "print(\"Percentage:\", percentage, \"%\")"
   ]
  },
  {
   "cell_type": "markdown",
   "id": "d4283596",
   "metadata": {},
   "source": [
    "   # part 2"
   ]
  },
  {
   "cell_type": "markdown",
   "id": "76000c25",
   "metadata": {},
   "source": [
    "### Python Basics (Conditional Statements)"
   ]
  },
  {
   "cell_type": "markdown",
   "id": "475d5ccc",
   "metadata": {},
   "source": [
    "#### Question no 05\n",
    "### A company decided to give bonus of 5% to employee if his/her year of service is more than 5 years. Ask user for their salary and year of service and print the net bonus amount"
   ]
  },
  {
   "cell_type": "code",
   "execution_count": 2,
   "id": "bc87cfab",
   "metadata": {},
   "outputs": [
    {
     "name": "stdout",
     "output_type": "stream",
     "text": [
      "Congratulations! You're eligible for a bonus of: 0.85\n"
     ]
    }
   ],
   "source": [
    "def main():\n",
    "    # Ask for user input\n",
    "    salary = float(input(\"Enter your salary: \"))\n",
    "    years_of_service = int(input(\"Enter your years of service: \"))\n",
    "\n",
    "    # Check if employee is eligible for bonus\n",
    "    if years_of_service > 5:\n",
    "        bonus = 0.05 * salary\n",
    "        print(f\"Congratulations! You're eligible for a bonus of: {bonus:.2f}\")\n",
    "    else:\n",
    "        print(\"No bonus (requires more than 5 years of service).\")\n",
    "\n",
    "# Run the main function only if this script is executed directly\n",
    "if __name__ == \"__main__\":\n",
    "    main()\n"
   ]
  },
  {
   "cell_type": "markdown",
   "id": "1c46e718",
   "metadata": {},
   "source": [
    "### QUESTION NO 06\n",
    "### Write a program to check whether a person is eligible for voting or not. (accept age from user) if age is greater than 17 eligible otherwise not eligible\n"
   ]
  },
  {
   "cell_type": "code",
   "execution_count": 3,
   "id": "579227e1",
   "metadata": {},
   "outputs": [
    {
     "name": "stdout",
     "output_type": "stream",
     "text": [
      "You are eligible to vote.\n"
     ]
    }
   ],
   "source": [
    "def main():\n",
    "    # Ask the user to enter their age\n",
    "    age = int(input(\"Enter your age: \"))\n",
    "\n",
    "    # Check voting eligibility\n",
    "    if age > 17:\n",
    "        print(\"You are eligible to vote.\")\n",
    "    else:\n",
    "        print(\"You are not eligible to vote.\")\n",
    "\n",
    "# Run the main function\n",
    "if __name__ == \"__main__\":\n",
    "    main()\n"
   ]
  },
  {
   "cell_type": "markdown",
   "id": "e07ac702",
   "metadata": {},
   "source": [
    "### Question no 7\n",
    "### Write a program to check whether a number is divisible by 7 or not. Show Answer"
   ]
  },
  {
   "cell_type": "code",
   "execution_count": 13,
   "id": "2551550c",
   "metadata": {},
   "outputs": [
    {
     "name": "stdout",
     "output_type": "stream",
     "text": [
      "0 is divisible by 7.\n"
     ]
    }
   ],
   "source": [
    "# Program to check whether a number is divisible by 7\n",
    "\n",
    "# Take input from the user\n",
    "number = int(input(\"Enter a number: \"))\n",
    "\n",
    "# Check divisibility by 7\n",
    "if number % 7 == 0:\n",
    "    print(f\"{number} is divisible by 7.\")\n",
    "else:\n",
    "    print(f\"{number} is not divisible by 7.\")\n"
   ]
  },
  {
   "cell_type": "code",
   "execution_count": 14,
   "id": "206c5b8e",
   "metadata": {},
   "outputs": [
    {
     "name": "stdout",
     "output_type": "stream",
     "text": [
      "4 is not divisible by 7.\n"
     ]
    }
   ],
   "source": [
    "# Program to check whether a number is divisible by 7\n",
    "\n",
    "# Take input from the user\n",
    "number = int(input(\"Enter a number: \"))\n",
    "\n",
    "# Check divisibility by 7\n",
    "if number % 7 == 0:\n",
    "    print(f\"{number} is divisible by 7.\")\n",
    "else:\n",
    "    print(f\"{number} is not divisible by 7.\")\n"
   ]
  },
  {
   "cell_type": "markdown",
   "id": "e1df916b",
   "metadata": {},
   "source": [
    "### Question no 08\n",
    "###  Write a program to check whether a number entered by user is even or odd."
   ]
  },
  {
   "cell_type": "code",
   "execution_count": 12,
   "id": "cecc3d83",
   "metadata": {},
   "outputs": [
    {
     "name": "stdout",
     "output_type": "stream",
     "text": [
      "0 is even.\n"
     ]
    }
   ],
   "source": [
    "# Program to check whether a number is even or odd\n",
    "\n",
    "# Take input from the user\n",
    "number = int(input(\"Enter a number: \"))\n",
    "\n",
    "# Check if the number is even or odd using modulus operator\n",
    "if number % 2 == 0:\n",
    "    print(f\"{number} is even.\")\n",
    "else:\n",
    "    print(f\"{number} is odd.\")\n"
   ]
  },
  {
   "cell_type": "code",
   "execution_count": 7,
   "id": "b1f5e29e",
   "metadata": {},
   "outputs": [
    {
     "name": "stdout",
     "output_type": "stream",
     "text": [
      "2 is even.\n"
     ]
    }
   ],
   "source": [
    "# Program to check whether a number is even or odd\n",
    "\n",
    "# Take input from the user\n",
    "number = int(input(\"Enter a number: \"))\n",
    "\n",
    "# Check if the number is even or odd using modulus operator\n",
    "if number % 2 == 0:\n",
    "    print(f\"{number} is even.\")\n",
    "else:\n",
    "    print(f\"{number} is odd.\")\n"
   ]
  },
  {
   "cell_type": "markdown",
   "id": "40f198f6",
   "metadata": {},
   "source": [
    "### Question no 09\n",
    "### Write a program to display \"Hello\" if a number entered by user is a multiple of five , otherwise print \"Bye\"."
   ]
  },
  {
   "cell_type": "code",
   "execution_count": 8,
   "id": "340d4b10",
   "metadata": {},
   "outputs": [
    {
     "name": "stdout",
     "output_type": "stream",
     "text": [
      "Hello\n"
     ]
    }
   ],
   "source": [
    "# Program to display \"Hello\" if the number is a multiple of 5, otherwise \"Bye\"\n",
    "\n",
    "# Take input from the user\n",
    "number = int(input(\"Enter a number: \"))\n",
    "\n",
    "# Check if the number is a multiple of 5\n",
    "if number % 5 == 0:\n",
    "    print(\"Hello\")\n",
    "else:\n",
    "    print(\"Bye\")\n"
   ]
  },
  {
   "cell_type": "code",
   "execution_count": 9,
   "id": "1eeae09f",
   "metadata": {},
   "outputs": [
    {
     "name": "stdout",
     "output_type": "stream",
     "text": [
      "Hello\n"
     ]
    }
   ],
   "source": [
    "# Program to display \"Hello\" if the number is a multiple of 5, otherwise \"Bye\"\n",
    "\n",
    "# Take input from the user\n",
    "number = int(input(\"Enter a number: \"))\n",
    "\n",
    "# Check if the number is a multiple of 5\n",
    "if number % 5 == 0:\n",
    "    print(\"Hello\")\n",
    "else:\n",
    "    print(\"Bye\")\n"
   ]
  },
  {
   "cell_type": "markdown",
   "id": "193dc232",
   "metadata": {},
   "source": [
    "### question no 10\n",
    "### Write a program to display the last digit of a number."
   ]
  },
  {
   "cell_type": "code",
   "execution_count": 16,
   "id": "abea0236",
   "metadata": {},
   "outputs": [
    {
     "name": "stdout",
     "output_type": "stream",
     "text": [
      "The last digit is: 7\n"
     ]
    }
   ],
   "source": [
    "# Program to display the last digit of a number\n",
    "\n",
    "# Take input from the user\n",
    "number = int(input(\"Enter a number: \"))\n",
    "\n",
    "# Get the last digit using modulus operator\n",
    "last_digit = abs(number) % 10\n",
    "\n",
    "# Display the last digit\n",
    "print(\"The last digit is:\", last_digit)\n"
   ]
  },
  {
   "cell_type": "markdown",
   "id": "0a3355a4",
   "metadata": {},
   "source": [
    "### Question no 11\n",
    "### program to check whether the shape is a square or rectangle\n",
    "\n"
   ]
  },
  {
   "cell_type": "code",
   "execution_count": 11,
   "id": "08dc3ff9",
   "metadata": {},
   "outputs": [
    {
     "ename": "ValueError",
     "evalue": "could not convert string to float: 'float'",
     "output_type": "error",
     "traceback": [
      "\u001b[31m---------------------------------------------------------------------------\u001b[39m",
      "\u001b[31mValueError\u001b[39m                                Traceback (most recent call last)",
      "\u001b[36mCell\u001b[39m\u001b[36m \u001b[39m\u001b[32mIn[11]\u001b[39m\u001b[32m, line 4\u001b[39m\n\u001b[32m      1\u001b[39m \u001b[38;5;66;03m# Program to check whether the shape is a square or rectangle\u001b[39;00m\n\u001b[32m      2\u001b[39m \n\u001b[32m      3\u001b[39m \u001b[38;5;66;03m# Take input from the user\u001b[39;00m\n\u001b[32m----> \u001b[39m\u001b[32m4\u001b[39m length = \u001b[38;5;28;43mfloat\u001b[39;49m\u001b[43m(\u001b[49m\u001b[38;5;28;43minput\u001b[39;49m\u001b[43m(\u001b[49m\u001b[33;43m\"\u001b[39;49m\u001b[33;43mEnter the length: \u001b[39;49m\u001b[33;43m\"\u001b[39;49m\u001b[43m)\u001b[49m\u001b[43m)\u001b[49m\n\u001b[32m      5\u001b[39m breadth = \u001b[38;5;28mfloat\u001b[39m(\u001b[38;5;28minput\u001b[39m(\u001b[33m\"\u001b[39m\u001b[33mEnter the breadth: \u001b[39m\u001b[33m\"\u001b[39m))\n\u001b[32m      7\u001b[39m \u001b[38;5;66;03m# Check if the shape is a square or a rectangle\u001b[39;00m\n",
      "\u001b[31mValueError\u001b[39m: could not convert string to float: 'float'"
     ]
    }
   ],
   "source": [
    "# Program to check whether the shape is a square or rectangle\n",
    "\n",
    "# Take input from the user\n",
    "length = float(input(\"Enter the length: \"))\n",
    "breadth = float(input(\"Enter the breadth: \"))\n",
    "\n",
    "# Check if the shape is a square or a rectangle\n",
    "if length == breadth:\n",
    "    print(\"It is a square.\")\n",
    "else:\n",
    "    print(\"It is a rectangle.\")"
   ]
  },
  {
   "cell_type": "markdown",
   "id": "86a99b42",
   "metadata": {},
   "source": [
    "### Question no 12\n",
    "### Here's a simple Python program that takes two integers from the user and prints the greatest one\n"
   ]
  },
  {
   "cell_type": "code",
   "execution_count": 9,
   "id": "02db59ed",
   "metadata": {},
   "outputs": [
    {
     "name": "stdout",
     "output_type": "stream",
     "text": [
      "Both numbers are equal.\n"
     ]
    }
   ],
   "source": [
    "# Take two integer inputs from the user\n",
    "num1 = int(input(\"Enter the first integer: \"))\n",
    "num2 = int(input(\"Enter the second integer: \"))\n",
    "\n",
    "# Compare and print the greatest\n",
    "if num1 > num2:\n",
    "    print(f\"The greatest number is: {num1}\")\n",
    "elif num2 > num1:\n",
    "    print(f\"The greatest number is: {num2}\")\n",
    "else:\n",
    "    print(\"Both numbers are equal.\")\n",
    "\n",
    "\n"
   ]
  },
  {
   "cell_type": "markdown",
   "id": "4758a4f7",
   "metadata": {},
   "source": [
    "### Question no 13\n",
    "### A shop will give discount of 10% if the cost of purchased quantity is more than 1000. Ask user for quantity Suppose, one unit will cost 100. Judge and print total cost for user."
   ]
  },
  {
   "cell_type": "code",
   "execution_count": 12,
   "id": "87bab4b0",
   "metadata": {},
   "outputs": [
    {
     "name": "stdout",
     "output_type": "stream",
     "text": [
      "Total cost to pay: 990.0\n"
     ]
    }
   ],
   "source": [
    "# Ask user for quantity\n",
    "quantity = int(input(\"Enter the quantity: \"))\n",
    "\n",
    "# Define unit price\n",
    "unit_price = 100\n",
    "\n",
    "# Calculate total cost without discount\n",
    "total_cost = quantity * unit_price\n",
    "\n",
    "# Check for discount\n",
    "if total_cost > 1000:\n",
    "    discount = total_cost * 0.10  # 10% discount\n",
    "    total_cost -= discount\n",
    "\n",
    "# Print final total cost\n",
    "print(f\"Total cost to pay: {total_cost}\")\n"
   ]
  },
  {
   "cell_type": "markdown",
   "id": "20bdbfd1",
   "metadata": {},
   "source": [
    "### Question no 14\n",
    "### A school has following rules for grading system:\n",
    "### a. Below 25 - F\n",
    "\n",
    "### b. 25 to 45 - E\n",
    "\n",
    "### c. 45 to 50 - D\n",
    "\n",
    "### d. 50 to 60 - C\n",
    "\n",
    "### e. 60 to 80 - B\n",
    "\n",
    "### f. Above 80 - A\n",
    "\n",
    "### Ask user to enter marks and print the corresponding grade."
   ]
  },
  {
   "cell_type": "code",
   "execution_count": 13,
   "id": "d720e7ec",
   "metadata": {},
   "outputs": [
    {
     "name": "stdout",
     "output_type": "stream",
     "text": [
      "Grade: B\n"
     ]
    }
   ],
   "source": [
    "# Ask user to enter marks\n",
    "marks = float(input(\"Enter your marks: \"))\n",
    "\n",
    "# Determine and print grade based on the marks\n",
    "if marks < 25:\n",
    "    print(\"Grade: F\")\n",
    "elif marks < 45:\n",
    "    print(\"Grade: E\")\n",
    "elif marks < 50:\n",
    "    print(\"Grade: D\")\n",
    "elif marks < 60:\n",
    "    print(\"Grade: C\")\n",
    "elif marks < 80:\n",
    "    print(\"Grade: B\")\n",
    "else:\n",
    "    print(\"Grade: A\")\n"
   ]
  },
  {
   "cell_type": "markdown",
   "id": "e1c47fc0",
   "metadata": {},
   "source": [
    "### Question no 15 \n",
    "### A student will not be allowed to sit in exam if his/her attendence is less than 75%.\n",
    "### Take following input from user\n",
    "\n",
    "### Number of classes held\n",
    "\n",
    "### Number of classes attended.\n",
    "\n",
    "### And print\n",
    "\n",
    "### percentage of class attended\n",
    "\n",
    "### Is student is allowed to sit in exam or not.\n"
   ]
  },
  {
   "cell_type": "code",
   "execution_count": 14,
   "id": "ad9b11de",
   "metadata": {},
   "outputs": [
    {
     "name": "stdout",
     "output_type": "stream",
     "text": [
      "Attendance percentage: 98.68%\n",
      "Student is allowed to sit in the exam.\n"
     ]
    }
   ],
   "source": [
    "# Input from user\n",
    "classes_held = int(input(\"Enter the number of classes held: \"))\n",
    "classes_attended = int(input(\"Enter the number of classes attended: \"))\n",
    "\n",
    "# Calculate attendance percentage\n",
    "attendance_percentage = (classes_attended / classes_held) * 100\n",
    "\n",
    "# Print the percentage\n",
    "print(f\"Attendance percentage: {attendance_percentage:.2f}%\")\n",
    "\n",
    "# Check if student is allowed to sit in the exam\n",
    "if attendance_percentage >= 75:\n",
    "    print(\"Student is allowed to sit in the exam.\")\n",
    "else:\n",
    "    print(\"Student is NOT allowed to sit in the exam.\")\n"
   ]
  },
  {
   "cell_type": "markdown",
   "id": "6b5e4952",
   "metadata": {},
   "source": [
    "### question no 16 \n",
    "### Modify the above question to allow student to sit if he/she has medical cause. Ask user if he/she has medical cause or not ( 'Y' or 'N' ) and print accordingly"
   ]
  },
  {
   "cell_type": "code",
   "execution_count": 15,
   "id": "92922b16",
   "metadata": {},
   "outputs": [
    {
     "name": "stdout",
     "output_type": "stream",
     "text": [
      "Attendance percentage: 100.00%\n",
      "Student is allowed to sit in the exam.\n"
     ]
    }
   ],
   "source": [
    "# Input from user\n",
    "classes_held = int(input(\"Enter the number of classes held: \"))\n",
    "classes_attended = int(input(\"Enter the number of classes attended: \"))\n",
    "\n",
    "# Calculate attendance percentage\n",
    "attendance_percentage = (classes_attended / classes_held) * 100\n",
    "\n",
    "# Print the percentage\n",
    "print(f\"Attendance percentage: {attendance_percentage:.2f}%\")\n",
    "\n",
    "# Check attendance condition\n",
    "if attendance_percentage >= 75:\n",
    "    print(\"Student is allowed to sit in the exam.\")\n",
    "else:\n",
    "    # Ask if the student has a medical cause\n",
    "    medical_cause = input(\"Do you have a medical cause? (Y/N): \").strip().upper()\n",
    "    \n",
    "    if medical_cause == 'Y':\n",
    "        print(\"Student is allowed to sit in the exam due to medical cause.\")\n",
    "    else:\n",
    "        print(\"Student is NOT allowed to sit in the exam.\")\n"
   ]
  },
  {
   "cell_type": "markdown",
   "id": "4c5d0483",
   "metadata": {},
   "source": [
    "### Question no 17 \n",
    "### Write a program to check if a year is leap year or not.\n",
    "### If a year is divisible by 4 then it is leap year but if the year is century year like 2000, 1900, 2100 then it must be divisible by 400.\n"
   ]
  },
  {
   "cell_type": "code",
   "execution_count": 16,
   "id": "6028c7e3",
   "metadata": {},
   "outputs": [
    {
     "name": "stdout",
     "output_type": "stream",
     "text": [
      "1900 is NOT a leap year.\n"
     ]
    }
   ],
   "source": [
    "# Take input from the user\n",
    "year = int(input(\"Enter a year: \"))\n",
    "\n",
    "# Check if it's a leap year\n",
    "if (year % 4 == 0):\n",
    "    if (year % 100 == 0):\n",
    "        if (year % 400 == 0):\n",
    "            print(f\"{year} is a leap year.\")\n",
    "        else:\n",
    "            print(f\"{year} is NOT a leap year.\")\n",
    "    else:\n",
    "        print(f\"{year} is a leap year.\")\n",
    "else:\n",
    "    print(f\"{year} is NOT a leap year.\")\n"
   ]
  },
  {
   "cell_type": "code",
   "execution_count": 17,
   "id": "ddcabaa4",
   "metadata": {},
   "outputs": [
    {
     "name": "stdout",
     "output_type": "stream",
     "text": [
      "2000 is a leap year.\n"
     ]
    }
   ],
   "source": [
    "# Take input from the user\n",
    "year = int(input(\"Enter a year: \"))\n",
    "\n",
    "# Check if it's a leap year\n",
    "if (year % 4 == 0):\n",
    "    if (year % 100 == 0):\n",
    "        if (year % 400 == 0):\n",
    "            print(f\"{year} is a leap year.\")\n",
    "        else:\n",
    "            print(f\"{year} is NOT a leap year.\")\n",
    "    else:\n",
    "        print(f\"{year} is a leap year.\")\n",
    "else:\n",
    "    print(f\"{year} is NOT a leap year.\")\n"
   ]
  },
  {
   "cell_type": "markdown",
   "id": "89bbfe59",
   "metadata": {},
   "source": [
    "### Question no 18 \n",
    "### Ask user to enter age, gender ( M or F ), marital status ( Y or N ) and then using following rules print their place of service.\n",
    "### if employee is female, then she will work only in urban areas.\n",
    "\n",
    "### if employee is a male and age is in between 20 to 40 then he may work in anywhere\n",
    "\n",
    "### if employee is male and age is in between 40 t0 60 then he will work in urban areas only.\n",
    "\n",
    "### And any other input of age should print \"ERROR\""
   ]
  },
  {
   "cell_type": "code",
   "execution_count": 21,
   "id": "49b73a6a",
   "metadata": {},
   "outputs": [
    {
     "name": "stdout",
     "output_type": "stream",
     "text": [
      "ERROR: Invalid gender input.\n"
     ]
    }
   ],
   "source": [
    "# Input from user\n",
    "age = int(input(\"Enter your age: \"))\n",
    "gender = input(\"Enter your gender (M/F): \").strip().upper()\n",
    "marital_status = input(\"Are you married? (Y/N): \").strip().upper()\n",
    "\n",
    "# Determine place of service\n",
    "if gender == 'F':\n",
    "    print(\"You will work only in urban areas.\")\n",
    "elif gender == 'M':\n",
    "    if 20 <= age <= 40:\n",
    "        print(\"You can work anywhere.\")\n",
    "    elif 40 < age <= 60:\n",
    "        print(\"You will work only in urban areas.\")\n",
    "    else:\n",
    "        print(\"ERROR: Invalid age for male employee.\")\n",
    "else:\n",
    "    print(\"ERROR: Invalid gender input.\")\n"
   ]
  },
  {
   "cell_type": "markdown",
   "id": "f0e1e511",
   "metadata": {},
   "source": [
    "### Question no 19\n",
    "### Write a program to calculate the electricity bill (accept number of unit from user) according to the following criteria : Unit Price\n",
    "### uptp 100 units no charge Next 200 units Rs 5 per unit After 200 units Rs 10 per unit (For example if input unit is 350 than total bill amount is Rs.3500 (For example if input unit is 97 than total bill amount is Rs.0 (For example if input unit is 150 than total bill amount is Rs.750\n"
   ]
  },
  {
   "cell_type": "code",
   "execution_count": 23,
   "id": "65ddf248",
   "metadata": {},
   "outputs": [
    {
     "name": "stdout",
     "output_type": "stream",
     "text": [
      "Total electricity bill: Rs.1500\n"
     ]
    }
   ],
   "source": [
    "# Take input from the user\n",
    "units = int(input(\"Enter number of units consumed: \"))\n",
    "\n",
    "# Calculate bill\n",
    "if units <= 100:\n",
    "    bill = 0\n",
    "elif units <= 300:\n",
    "    bill = (units - 100) * 5\n",
    "else:\n",
    "    # First 100 units: no charge\n",
    "    # Next 200 units: Rs 5/unit\n",
    "    # Beyond 300: Rs 10/unit\n",
    "    bill = (200 * 5) + (units - 300) * 10\n",
    "\n",
    "# Print bill\n",
    "print(f\"Total electricity bill: Rs.{bill}\")\n"
   ]
  },
  {
   "cell_type": "code",
   "execution_count": 24,
   "id": "10c2610c",
   "metadata": {},
   "outputs": [
    {
     "name": "stdout",
     "output_type": "stream",
     "text": [
      "Total electricity bill: Rs.0\n"
     ]
    }
   ],
   "source": [
    "# Take input from the user\n",
    "units = int(input(\"Enter number of units consumed: \"))\n",
    "\n",
    "# Calculate bill\n",
    "if units <= 100:\n",
    "    bill = 0\n",
    "elif units <= 300:\n",
    "    bill = (units - 100) * 5\n",
    "else:\n",
    "    # First 100 units: no charge\n",
    "    # Next 200 units: Rs 5/unit\n",
    "    # Beyond 300: Rs 10/unit\n",
    "    bill = (200 * 5) + (units - 300) * 10\n",
    "\n",
    "# Print bill\n",
    "print(f\"Total electricity bill: Rs.{bill}\")\n"
   ]
  },
  {
   "cell_type": "markdown",
   "id": "54b339b8",
   "metadata": {},
   "source": []
  },
  {
   "cell_type": "code",
   "execution_count": null,
   "id": "ea9617d9",
   "metadata": {},
   "outputs": [],
   "source": []
  }
 ],
 "metadata": {
  "kernelspec": {
   "display_name": "Python 3",
   "language": "python",
   "name": "python3"
  },
  "language_info": {
   "codemirror_mode": {
    "name": "ipython",
    "version": 3
   },
   "file_extension": ".py",
   "mimetype": "text/x-python",
   "name": "python",
   "nbconvert_exporter": "python",
   "pygments_lexer": "ipython3",
   "version": "3.13.6"
  }
 },
 "nbformat": 4,
 "nbformat_minor": 5
}
